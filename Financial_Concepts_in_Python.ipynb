{
  "nbformat": 4,
  "nbformat_minor": 0,
  "metadata": {
    "colab": {
      "name": "Financial_Concepts_DataCamp_Ch1&2.ipynb",
      "provenance": [],
      "collapsed_sections": [],
      "toc_visible": true
    },
    "kernelspec": {
      "name": "python3",
      "display_name": "Python 3"
    }
  },
  "cells": [
    {
      "cell_type": "markdown",
      "metadata": {
        "id": "bQhosa45EJsI"
      },
      "source": [
        "#Financial Concepts in Python"
      ]
    },
    {
      "cell_type": "markdown",
      "metadata": {
        "id": "8ScSZj7qEJdh"
      },
      "source": [
        "## Work By - **RAVJOT SINGH**\r\n",
        "\r\n",
        "E-Mail - ravjot313@gmail.com\r\n",
        "\r\n",
        "Website - https://ravjot03.github.io/\r\n",
        "\r\n",
        "LinkedIn - https://www.linkedin.com/in/ravjot03/\r\n",
        "\r\n",
        "GitHub - https://github.com/Ravjot03\r\n",
        "\r\n",
        "Medium - https://medium.com/@ravjot03"
      ]
    },
    {
      "cell_type": "markdown",
      "metadata": {
        "id": "vV9q5jU0ElVN"
      },
      "source": [
        "## PART - 1\r\n",
        "Fundamental financial concepts like the time value of money, growth and rate of return, compound interest, discount factors, depreciation, and inflation."
      ]
    },
    {
      "cell_type": "markdown",
      "metadata": {
        "id": "ahe_xBowjmYK"
      },
      "source": [
        "###Growth and Rate of return\r\n",
        "\r\n",
        "Calculate the future value of the investment."
      ]
    },
    {
      "cell_type": "markdown",
      "metadata": {
        "id": "RBCuUYh1j4PL"
      },
      "source": [
        "Q. Calculate the future value (cumulative return) of a $100 investment which grows at a rate of 6% per year for 30 years in a row and assign it to `future_value`."
      ]
    },
    {
      "cell_type": "code",
      "metadata": {
        "colab": {
          "base_uri": "https://localhost:8080/"
        },
        "id": "Vi8udiKvj3zl",
        "outputId": "c60a9686-bd83-46ee-f3a4-390012b28b9c"
      },
      "source": [
        "future_value = 100*(1 + 0.06)**30\r\n",
        "print(future_value)"
      ],
      "execution_count": 1,
      "outputs": [
        {
          "output_type": "stream",
          "text": [
            "574.3491172913258\n"
          ],
          "name": "stdout"
        }
      ]
    },
    {
      "cell_type": "markdown",
      "metadata": {
        "id": "fC7uVLQEkPQz"
      },
      "source": [
        "###Compound Interest\r\n",
        "\r\n",
        "Both time and the rate of return are very important variables when forecasting the future value of an investment.\r\n",
        "\r\n",
        "Another important variable is the number of compounding periods, which can greatly affect compounded returns over time."
      ]
    },
    {
      "cell_type": "markdown",
      "metadata": {
        "id": "Yi6n-DDekZCL"
      },
      "source": [
        "Q. Calculate the value of a $100 investment which grows at a rate of 6% per year for 30 years in a row compounded once per year and assign it to `investment_1`."
      ]
    },
    {
      "cell_type": "code",
      "metadata": {
        "colab": {
          "base_uri": "https://localhost:8080/"
        },
        "id": "aNtXHlFnjlof",
        "outputId": "f9a2813d-15eb-4b77-9095-862b53c6c6a4"
      },
      "source": [
        "initial_amount = 100\r\n",
        "rate = 0.06\r\n",
        "time = 30\r\n",
        "\r\n",
        "# Calculate the value for the investment compounded once per year\r\n",
        "compound_periods_1 = 1\r\n",
        "investment_1 = initial_amount * (1 + rate / compound_periods_1)** time*compound_periods_1\r\n",
        "print(\"Investment 1: \" + str(round(investment_1, 2)))"
      ],
      "execution_count": 2,
      "outputs": [
        {
          "output_type": "stream",
          "text": [
            "Investment 1: 574.35\n"
          ],
          "name": "stdout"
        }
      ]
    },
    {
      "cell_type": "markdown",
      "metadata": {
        "id": "K69g5yaik3_7"
      },
      "source": [
        "Q. Calculate the value of the same investment, but compounded quarterly and assign it to `investment_2`."
      ]
    },
    {
      "cell_type": "code",
      "metadata": {
        "colab": {
          "base_uri": "https://localhost:8080/"
        },
        "id": "ofFJ4mInk43z",
        "outputId": "750605e8-054d-4b54-b786-901384df2ca7"
      },
      "source": [
        "compound_periods_2 = 4\r\n",
        "investment_2 = initial_amount*(1 + rate / compound_periods_2)**(compound_periods_2*time)\r\n",
        "print(\"Investment 1: \" + str(round(investment_2, 2)))"
      ],
      "execution_count": 3,
      "outputs": [
        {
          "output_type": "stream",
          "text": [
            "Investment 1: 596.93\n"
          ],
          "name": "stdout"
        }
      ]
    },
    {
      "cell_type": "markdown",
      "metadata": {
        "id": "2fayGHe8lMqa"
      },
      "source": [
        "Q. Calculate the value of the same investment, but compounded monthly and assign it to `investment_3`."
      ]
    },
    {
      "cell_type": "code",
      "metadata": {
        "colab": {
          "base_uri": "https://localhost:8080/"
        },
        "id": "DQNnAXDblNYq",
        "outputId": "6e6489a5-175e-46c3-82c0-d56c400cc9c0"
      },
      "source": [
        "compound_periods_3 = 12\r\n",
        "investment_3 = initial_amount*(1 + rate / compound_periods_3)**(compound_periods_3*time)\r\n",
        "print(\"Investment 1: \" + str(round(investment_3, 2)))"
      ],
      "execution_count": 4,
      "outputs": [
        {
          "output_type": "stream",
          "text": [
            "Investment 1: 602.26\n"
          ],
          "name": "stdout"
        }
      ]
    },
    {
      "cell_type": "markdown",
      "metadata": {
        "id": "OjaNMi5NlcjT"
      },
      "source": [
        "###Discount factors and Depreciation\r\n",
        "\r\n",
        "Growth rates are often unpredictable in finance rather than constant, and can even be negative, leading to depreciation, which simply means a declining value over time.\r\n",
        "\r\n",
        "Unfortunately, not everything grows in value over time.\r\n",
        "\r\n",
        "In fact, many assets depreciate, or lose value over time. To simulate this, we can simply assume a negative expected rate of return."
      ]
    },
    {
      "cell_type": "markdown",
      "metadata": {
        "id": "Dw3pLHKlleAD"
      },
      "source": [
        "Q. Calculate the future value of a $100 investment that depreciates in value by 5% per year for 10 years and assign it to `future_value`."
      ]
    },
    {
      "cell_type": "code",
      "metadata": {
        "colab": {
          "base_uri": "https://localhost:8080/"
        },
        "id": "LfIRdke4ltOE",
        "outputId": "a23b0021-84c8-40ac-961f-13b07cf78449"
      },
      "source": [
        "# Calculate the future value\r\n",
        "initial_investment = 100\r\n",
        "growth_rate = -0.05\r\n",
        "growth_periods = 10\r\n",
        "future_value = initial_investment * (1 + growth_rate)**growth_periods\r\n",
        "print(\"Future value: \" + str(round(future_value, 2)))"
      ],
      "execution_count": 5,
      "outputs": [
        {
          "output_type": "stream",
          "text": [
            "Future value: 59.87\n"
          ],
          "name": "stdout"
        }
      ]
    },
    {
      "cell_type": "markdown",
      "metadata": {
        "id": "Y4d8V2VdGR-s"
      },
      "source": [
        "####What is Discount Factor ?\r\n",
        "If we know the depreciated value of an investment and the depreciation rate, but we want to calculate the initial value of the investment? Using simple algebra, we can build a formula to derive the `discount factor (df)`, which is the number that when multiplied by the future value, equals the initial value of the investment."
      ]
    },
    {
      "cell_type": "code",
      "metadata": {
        "colab": {
          "base_uri": "https://localhost:8080/"
        },
        "id": "NQJnXDxMlyYr",
        "outputId": "05973535-bd9c-4975-e325-963cd34ed8b2"
      },
      "source": [
        "# Calculate the discount factor\r\n",
        "discount_factor = 1/ (1 + growth_rate)**growth_periods\r\n",
        "print(\"Discount factor: \" + str(round(discount_factor, 2)))"
      ],
      "execution_count": 6,
      "outputs": [
        {
          "output_type": "stream",
          "text": [
            "Discount factor: 1.67\n"
          ],
          "name": "stdout"
        }
      ]
    },
    {
      "cell_type": "code",
      "metadata": {
        "colab": {
          "base_uri": "https://localhost:8080/"
        },
        "id": "n7vFcu4mpSoc",
        "outputId": "0813f832-3a1d-4231-a104-f8711862b04d"
      },
      "source": [
        "# Derive the initial value of the investment\r\n",
        "initial_investment_again = future_value * discount_factor\r\n",
        "print(\"Initial value: \" + str(round(initial_investment_again, 2)))"
      ],
      "execution_count": 7,
      "outputs": [
        {
          "output_type": "stream",
          "text": [
            "Initial value: 100.0\n"
          ],
          "name": "stdout"
        }
      ]
    },
    {
      "cell_type": "markdown",
      "metadata": {
        "id": "r4O1Bv_MpfKC"
      },
      "source": [
        "### Present Value and Future Value"
      ]
    },
    {
      "cell_type": "markdown",
      "metadata": {
        "id": "4m6Dxps-qMDK"
      },
      "source": [
        "#### NumPy Financial Package\r\n",
        "The `numpy-financial` package contains a collection of elementary financial functions.\r\n",
        "\r\n",
        "The importable name of the package is `numpy_financial`. The recommended alias is `npf`."
      ]
    },
    {
      "cell_type": "code",
      "metadata": {
        "colab": {
          "base_uri": "https://localhost:8080/"
        },
        "id": "2XfzU3bSqPGy",
        "outputId": "85eeacd4-d168-4814-cb4b-19af67142ee1"
      },
      "source": [
        "pip install numpy-financial"
      ],
      "execution_count": 8,
      "outputs": [
        {
          "output_type": "stream",
          "text": [
            "Collecting numpy-financial\n",
            "  Downloading https://files.pythonhosted.org/packages/6a/be/d07585e440d58835bad8f1c9ca7823b5252ffeda4c797e653a20215fca65/numpy_financial-1.0.0-py3-none-any.whl\n",
            "Requirement already satisfied: numpy>=1.15 in /usr/local/lib/python3.6/dist-packages (from numpy-financial) (1.19.4)\n",
            "Installing collected packages: numpy-financial\n",
            "Successfully installed numpy-financial-1.0.0\n"
          ],
          "name": "stdout"
        }
      ]
    },
    {
      "cell_type": "code",
      "metadata": {
        "id": "4cVAYtYrpi4i"
      },
      "source": [
        "import numpy as np\r\n",
        "import numpy_financial"
      ],
      "execution_count": 9,
      "outputs": []
    },
    {
      "cell_type": "markdown",
      "metadata": {
        "id": "C720X05lptrV"
      },
      "source": [
        "####Present value\r\n",
        "\r\n",
        "There is a module called numpy-financial which contains 10 functions which will make our life much easier when working with financial values.\r\n",
        "\r\n",
        "The `.pv(rate, nper, pmt, fv)` function, for example, allows to calculate the present value of an investment as before with a few simple parameters:\r\n",
        "\r\n",
        "1.  `rate`: The rate of return of the investment\r\n",
        "2.  `nper`: The lifespan of the investment\r\n",
        "3.  `pmt`: The (fixed) payment at the beginning or end of each period (which is 0 in our example)\r\n",
        "4.  `fv`: The future value of the investment\r\n",
        "\r\n",
        "We can use this formula in many ways. For example, we can calculate the present value of future investments in today's dollars."
      ]
    },
    {
      "cell_type": "markdown",
      "metadata": {
        "id": "3GZ7oLthp53y"
      },
      "source": [
        "Using NumPy Financial `.pv()` function, compute the present value of an investment which will yield $10,000, 15 years from now at an inflation rate of 3% per year and assign it to `investment_1`."
      ]
    },
    {
      "cell_type": "code",
      "metadata": {
        "colab": {
          "base_uri": "https://localhost:8080/"
        },
        "id": "wdJmWAlUpkx0",
        "outputId": "914d6e3b-3a55-4e9a-9066-91e4b26de126"
      },
      "source": [
        "# Calculate investment_1\r\n",
        "investment_1 = numpy_financial.pv(rate=0.03, nper=15, pmt=0, fv=10000)\r\n",
        "\r\n",
        "# Note that the present value returned is negative, so we multiply the result by -1\r\n",
        "print(\"Investment 1 is worth \" + str(round(-investment_1, 2)) + \" in today's dollars\")"
      ],
      "execution_count": 10,
      "outputs": [
        {
          "output_type": "stream",
          "text": [
            "Investment 1 is worth 6418.62 in today's dollars\n"
          ],
          "name": "stdout"
        }
      ]
    },
    {
      "cell_type": "markdown",
      "metadata": {
        "id": "tXnZEZJ5rApa"
      },
      "source": [
        "Q. Compute the present value of the same investment, but with a time horizon of only 10 years and an inflation rate of 5%, assigning it to `investment_2`."
      ]
    },
    {
      "cell_type": "code",
      "metadata": {
        "colab": {
          "base_uri": "https://localhost:8080/"
        },
        "id": "PaC0_hS3rAX8",
        "outputId": "34161066-b115-4a5b-a4fc-18436c7f79bc"
      },
      "source": [
        "# Calculate investment_2\r\n",
        "investment_2 = numpy_financial.pv(rate=0.05, pmt=0, nper=10,fv=10000)\r\n",
        "print(\"Investment 2 is worth \" + str(round(-investment_2, 2)) + \" in today's dollars\")"
      ],
      "execution_count": 11,
      "outputs": [
        {
          "output_type": "stream",
          "text": [
            "Investment 2 is worth 6139.13 in today's dollars\n"
          ],
          "name": "stdout"
        }
      ]
    },
    {
      "cell_type": "markdown",
      "metadata": {
        "id": "2ha-MtZyrMOS"
      },
      "source": [
        "####Future value\r\n",
        "\r\n",
        "The `numpy-financial` module also contains a similar function, `.fv(rate, nper, pmt, pv)`, which allows to calculate the future value of an investment as before with a few simple parameters:\r\n",
        "\r\n",
        "1.  `rate`: The rate of return of the investment\r\n",
        "2.  `nper`: The lifespan of the investment\r\n",
        "3.  `pmt`: The (fixed) payment at the beginning or end of each period (which is 0 in our example)\r\n",
        "4.  `pv`: The present value of the investment\r\n",
        "\r\n",
        "It is important to note that in this function call, we must pass a negative value into the pv parameter if it represents a negative cash flow (cash going out). In other words, if we were to compute the future value of an investment, requiring an up-front cash payment, we would need to pass a negative value to the pv parameter in the .fv() function."
      ]
    },
    {
      "cell_type": "markdown",
      "metadata": {
        "id": "Dzmmx_n6rXh8"
      },
      "source": [
        "Using NumPy Financial `.fv()` function, calculate the future value of a $10,000 investment returning 5% per year for 15 years and assign it to `investment_1`."
      ]
    },
    {
      "cell_type": "code",
      "metadata": {
        "colab": {
          "base_uri": "https://localhost:8080/"
        },
        "id": "VrSJAvdErP0C",
        "outputId": "35936105-6881-4764-eef8-ecfde56cbc4f"
      },
      "source": [
        "# Calculate investment_1\r\n",
        "investment_1 = numpy_financial.fv(rate=0.05, nper=15, pmt=0, pv=-10000)\r\n",
        "print(\"Investment 1 will yield a total of $\" + str(round(investment_1, 2)) + \" in 15 years\")"
      ],
      "execution_count": 12,
      "outputs": [
        {
          "output_type": "stream",
          "text": [
            "Investment 1 will yield a total of $20789.28 in 15 years\n"
          ],
          "name": "stdout"
        }
      ]
    },
    {
      "cell_type": "markdown",
      "metadata": {
        "id": "gzPjzcUmrdP6"
      },
      "source": [
        "Q. Calculate the future value of a $10,000 investment returning 8% per year for 15 years and assign it to `investment_2`."
      ]
    },
    {
      "cell_type": "code",
      "metadata": {
        "colab": {
          "base_uri": "https://localhost:8080/"
        },
        "id": "dCNYr94Srfm9",
        "outputId": "a5722f92-eb87-4291-cd06-e7acd2805cfa"
      },
      "source": [
        "# Calculate investment_2\r\n",
        "investment_2 = numpy_financial.fv(rate=0.08, nper=15, pmt=0, pv=-10000)\r\n",
        "print(\"Investment 2 will yield a total of $\" + str(round(investment_2, 2)) + \" in 15 years\")"
      ],
      "execution_count": 13,
      "outputs": [
        {
          "output_type": "stream",
          "text": [
            "Investment 2 will yield a total of $31721.69 in 15 years\n"
          ],
          "name": "stdout"
        }
      ]
    },
    {
      "cell_type": "markdown",
      "metadata": {
        "id": "Bmu_QUDNuEVL"
      },
      "source": [
        "####Inflation Rate\r\n",
        "Adjusting future values for inflation\r\n",
        "\r\n",
        "First, forecast the future value of an investment given a rate of return.\r\n",
        "\r\n",
        "Second, discount the future value of the investment by a projected inflation rate.\r\n",
        "\r\n",
        "The methodology above will use both the `.fv()` and `.pv()` functions to arrive at the projected value of a given investment in today's dollars, adjusted for inflation."
      ]
    },
    {
      "cell_type": "markdown",
      "metadata": {
        "id": "HTSIt0_HuKhi"
      },
      "source": [
        "Q. Calculate the future value of a $10,000 investment returning 8% per year for 10 years using `.fv()` and assign it to `investment_1`.\r\n",
        "\r\n",
        "Q. Calculate the inflation-adjusted present value of `investment_1`, using an inflation rate of 3% per year and assign it to `investment_1_discounted`."
      ]
    },
    {
      "cell_type": "code",
      "metadata": {
        "colab": {
          "base_uri": "https://localhost:8080/"
        },
        "id": "KAewIJ8nrnTU",
        "outputId": "d8a0d6dd-bc44-4ea8-bf44-dfa75fa2967f"
      },
      "source": [
        "# Calculate investment_1\r\n",
        "investment_1 = numpy_financial.fv(rate=0.08, nper=10, pmt=0, pv=-10000)\r\n",
        "print(\"Investment 1 will yield a total of $\" + str(round(investment_1, 2)) + \" in 10 years\")\r\n",
        "\r\n",
        "# Calculate investment_2\r\n",
        "investment_1_discounted = numpy_financial.pv(rate=0.03, nper=10, pmt=0, fv=investment_1)\r\n",
        "print(\"After adjusting for inflation, investment 1 is worth $\" + str(round(-investment_1_discounted, 2)) + \" in today's dollars\")"
      ],
      "execution_count": 14,
      "outputs": [
        {
          "output_type": "stream",
          "text": [
            "Investment 1 will yield a total of $21589.25 in 10 years\n",
            "After adjusting for inflation, investment 1 is worth $16064.43 in today's dollars\n"
          ],
          "name": "stdout"
        }
      ]
    },
    {
      "cell_type": "markdown",
      "metadata": {
        "id": "ob9h981tweDz"
      },
      "source": [
        "### Net Present Value and Cash Flows"
      ]
    },
    {
      "cell_type": "markdown",
      "metadata": {
        "id": "hQLitTCuwhxc"
      },
      "source": [
        "####Cash flows \r\n",
        "\r\n",
        "Cash Flows are a series of gains or losses from an investment over time."
      ]
    },
    {
      "cell_type": "markdown",
      "metadata": {
        "id": "-aQaRr7pwuxv"
      },
      "source": [
        "####Discounting cash flows\r\n",
        "\r\n",
        "We can use numpy financial's net present value function `.npv(rate, values)` to calculate the net present value of a series of cash flows. We can create these cash flows by using a numpy.array([...]) of values.\r\n"
      ]
    },
    {
      "cell_type": "markdown",
      "metadata": {
        "id": "gIkVZzOdw1Ln"
      },
      "source": [
        "Q. Calculate the net present value of the investment with `cash_flows` at a discount rate of 3% per year, and assign it to `investment_1`."
      ]
    },
    {
      "cell_type": "code",
      "metadata": {
        "colab": {
          "base_uri": "https://localhost:8080/"
        },
        "id": "-_7z33EUwpW4",
        "outputId": "3785b8b1-491a-4447-cae6-bfdeeb4db7a3"
      },
      "source": [
        "# Predefined array of cash flows\r\n",
        "cash_flows = np.array([100, 100, 100, 100, 100])\r\n",
        "\r\n",
        "# Calculate investment_1\r\n",
        "investment_1 = numpy_financial.npv(rate=0.03, values=cash_flows)\r\n",
        "print(\"Investment 1's net present value is $\" + str(round(investment_1, 2)) + \" in today's dollars\")"
      ],
      "execution_count": 15,
      "outputs": [
        {
          "output_type": "stream",
          "text": [
            "Investment 1's net present value is $471.71 in today's dollars\n"
          ],
          "name": "stdout"
        }
      ]
    },
    {
      "cell_type": "markdown",
      "metadata": {
        "id": "vcG_C05Vw9FI"
      },
      "source": [
        "Q. Repeat the process with a discount rate of 5% per year, and assign it to `investment_2`."
      ]
    },
    {
      "cell_type": "code",
      "metadata": {
        "colab": {
          "base_uri": "https://localhost:8080/"
        },
        "id": "xnD7Y0PkxDOi",
        "outputId": "6288c1d7-bd15-4754-eca1-cce0866df03c"
      },
      "source": [
        "# Calculate investment_2\r\n",
        "investment_2 = numpy_financial.npv(rate=0.05, values=cash_flows)\r\n",
        "print(\"Investment 2's net present value is $\" + str(round(investment_2, 2)) + \" in today's dollars\")"
      ],
      "execution_count": 16,
      "outputs": [
        {
          "output_type": "stream",
          "text": [
            "Investment 2's net present value is $454.6 in today's dollars\n"
          ],
          "name": "stdout"
        }
      ]
    },
    {
      "cell_type": "markdown",
      "metadata": {
        "id": "P-IJy_1oxIM5"
      },
      "source": [
        "Q. Repeat the process with a discount rate of 7% per year, and assign it to `investment_3`."
      ]
    },
    {
      "cell_type": "code",
      "metadata": {
        "colab": {
          "base_uri": "https://localhost:8080/"
        },
        "id": "-UyQfQoMxKVp",
        "outputId": "6c5a02fa-3777-4ed5-e38f-bb6ecb64c490"
      },
      "source": [
        "# Calculate investment_3\r\n",
        "investment_3 = numpy_financial.npv(rate=0.07, values=cash_flows)\r\n",
        "print(\"Investment 3's net present value is $\" + str(round(investment_3, 2)) + \" in today's dollars\")"
      ],
      "execution_count": 17,
      "outputs": [
        {
          "output_type": "stream",
          "text": [
            "Investment 3's net present value is $438.72 in today's dollars\n"
          ],
          "name": "stdout"
        }
      ]
    },
    {
      "cell_type": "markdown",
      "metadata": {
        "id": "L5Xr6m3t4tz_"
      },
      "source": [
        "`Notice above, how the higher discount rate leads to a lower NPV.`"
      ]
    },
    {
      "cell_type": "markdown",
      "metadata": {
        "id": "9dvPc-NZ4bVs"
      },
      "source": [
        "#### **The moral of the story?**\r\n",
        "\r\n",
        "`The project with higher NPV must be choosen.`"
      ]
    },
    {
      "cell_type": "markdown",
      "metadata": {
        "id": "GKzvqXh1xdBW"
      },
      "source": [
        "####Initial project costs\r\n",
        "\r\n",
        "The `.npv(rate, values)` function is very powerful because it allows to pass in both positive and negative values.\r\n",
        "\r\n",
        "For this exercise, we will calculate the net present value of two potential projects with different cash flows:"
      ]
    },
    {
      "cell_type": "markdown",
      "metadata": {
        "id": "lCWv9PQYyl2y"
      },
      "source": [
        "In this example, project 1 only requires an initial investment of `$250`, generating a slowly increasing series of cash flows over the next 4 years.\r\n",
        "\r\n",
        "Project 2, on the other hand, requires an initial investment of `$250` and an additional investment of `$250` in year 3. However, project 2 continues to generate larger cash flows.\r\n",
        "\r\n",
        "Assuming both projects don't generate any more cash flows after the fifth year, which project would we decide to undertake? \r\n",
        "\r\n",
        "The best way to decide is by comparing the NPV of both projects."
      ]
    },
    {
      "cell_type": "markdown",
      "metadata": {
        "id": "rIGg943aywlO"
      },
      "source": [
        "Q. Create a numpy array of the cash flow values for project 1, assigning it to `cash_flows_1`, and then do the same for project 2, assigning the values to `cash_flows_2`."
      ]
    },
    {
      "cell_type": "code",
      "metadata": {
        "id": "5brZ-D-kxjFJ"
      },
      "source": [
        "# Create an array of cash flows for project 1\r\n",
        "cash_flows_1 = np.array([-250,100,200,300,400])\r\n",
        "\r\n",
        "# Create an array of cash flows for project 2\r\n",
        "cash_flows_2 = np.array([-250,300,-250,300,300])"
      ],
      "execution_count": 18,
      "outputs": []
    },
    {
      "cell_type": "markdown",
      "metadata": {
        "id": "8zY41cdSy3no"
      },
      "source": [
        "Q. Calculate the net present value of both projects 1 and 2 assuming a 3% inflation rate."
      ]
    },
    {
      "cell_type": "code",
      "metadata": {
        "colab": {
          "base_uri": "https://localhost:8080/"
        },
        "id": "yuJKypL1y6GJ",
        "outputId": "37502296-5585-45bd-d14a-5d384cfa89b5"
      },
      "source": [
        "# Calculate the net present value of project 1\r\n",
        "investment_1 = numpy_financial.npv(rate=0.03, values=cash_flows_1)\r\n",
        "print(\"The net present value of Investment 1 is worth $\" + str(round(investment_1, 2)) + \" in today's dollars\")\r\n",
        "\r\n",
        "# Calculate the net present value of project 2\r\n",
        "investment_2 = numpy_financial.npv(rate=0.03, values=cash_flows_2)\r\n",
        "print(\"The net present value of Investment 2 is worth $\" + str(round(investment_2, 2)) + \" in today's dollars\")"
      ],
      "execution_count": 19,
      "outputs": [
        {
          "output_type": "stream",
          "text": [
            "The net present value of Investment 1 is worth $665.54 in today's dollars\n",
            "The net present value of Investment 2 is worth $346.7 in today's dollars\n"
          ],
          "name": "stdout"
        }
      ]
    },
    {
      "cell_type": "markdown",
      "metadata": {
        "id": "4pXr-GcNzOB5"
      },
      "source": [
        "####Diminishing cash flows\r\n",
        "\r\n",
        "Remember how compounded returns grow rapidly over time? Well, it works in the reverse, too. Compounded discount factors over time will quickly shrink a number towards zero.\r\n",
        "\r\n",
        "For example, `$100` at a 3% annual discount for 1 year is still worth roughly `$97.08`\r\n",
        "\r\n",
        "But this number shrinks quite rapidly as the number of discounting periods increases\r\n",
        "\r\n",
        "This means that the longer in the future our cash flows will be received (or paid), the close to 0 that number will be."
      ]
    },
    {
      "cell_type": "markdown",
      "metadata": {
        "id": "IKrvEHdizaGZ"
      },
      "source": [
        "Q. Calculate the present value of a single $100 payment received 30 years from now with an annual inflation rate of 3%, and assign it to `investment_1`."
      ]
    },
    {
      "cell_type": "code",
      "metadata": {
        "colab": {
          "base_uri": "https://localhost:8080/"
        },
        "id": "DiUEeI9pzjAK",
        "outputId": "715a3b5a-a702-4e7b-bf65-435bc2531391"
      },
      "source": [
        "# Calculate investment_1\r\n",
        "investment_1 = numpy_financial.pv(rate=0.03, nper=30, pmt=0, fv=100)\r\n",
        "print(\"Investment 1 is worth $\" + str(round(-investment_1, 2)) + \" in today's dollars\")"
      ],
      "execution_count": 20,
      "outputs": [
        {
          "output_type": "stream",
          "text": [
            "Investment 1 is worth $41.2 in today's dollars\n"
          ],
          "name": "stdout"
        }
      ]
    },
    {
      "cell_type": "markdown",
      "metadata": {
        "id": "nVmA-FT1znaA"
      },
      "source": [
        "Q. Calculate the present value of the same payment, but if it was received 50 and 100 years from now, and assign it to `investment_2` and `investment_3` respectively."
      ]
    },
    {
      "cell_type": "code",
      "metadata": {
        "colab": {
          "base_uri": "https://localhost:8080/"
        },
        "id": "QN8pXz1mzpy6",
        "outputId": "a8aa9cbf-e111-46e0-fb38-4890cabf2b93"
      },
      "source": [
        "# Calculate investment_2\r\n",
        "investment_2 = numpy_financial.pv(rate=0.03, nper=50, pmt=0, fv=100)\r\n",
        "print(\"Investment 2 is worth $\" + str(round(-investment_2, 2)) + \" in today's dollars\")\r\n",
        "\r\n",
        "# Calculate investment_3\r\n",
        "investment_3 = numpy_financial.pv(rate=0.03, nper=100, pmt=0, fv=100)\r\n",
        "print(\"Investment 3 is worth $\" + str(round(-investment_3, 2)) + \" in today's dollars\")"
      ],
      "execution_count": 21,
      "outputs": [
        {
          "output_type": "stream",
          "text": [
            "Investment 2 is worth $22.81 in today's dollars\n",
            "Investment 3 is worth $5.2 in today's dollars\n"
          ],
          "name": "stdout"
        }
      ]
    },
    {
      "cell_type": "markdown",
      "metadata": {
        "id": "xinjq-SszuzB"
      },
      "source": [
        "#### **The moral of the story?**\r\n",
        "\r\n",
        "`It's generally better to have money now rather than later.`"
      ]
    },
    {
      "cell_type": "markdown",
      "metadata": {
        "id": "twbYRmqv8Zgx"
      },
      "source": [
        "##PART-2"
      ]
    },
    {
      "cell_type": "markdown",
      "metadata": {
        "id": "GooHeJ9MzyRJ"
      },
      "source": [
        "###Project proposals and cash flows projections\r\n",
        "\r\n",
        "The project managers have projected the cash flows for each of the proposals.\r\n",
        "\r\n",
        "Project 1 provides higher short term cash flows, but Project 2 becomes more profitable over time.\r\n",
        "\r\n",
        "Note: The projections are provided in thousands. For example, `$1,000 = $1,000,000`. We will use the smaller denominations to make everything easier to read. This is also commonly done in financial statements with thousands or even millions in order to represent millions or billions."
      ]
    },
    {
      "cell_type": "markdown",
      "metadata": {
        "id": "8ftYwgFk8ncp"
      },
      "source": [
        "Q. Create a variable `cf_project_1` and set it equal to a numpy array of the projected cash flows for Project 1.\r\n",
        "\r\n",
        "Repeat the process for Project 2 and set it equal to `cf_project_2`.\r\n",
        "\r\n",
        "Scale the original values by 1000x, i.e. multiply the original arrays by 1000."
      ]
    },
    {
      "cell_type": "code",
      "metadata": {
        "id": "Ruyn6SiC8yRz"
      },
      "source": [
        "# Create a numpy array of cash flows for Project 1\r\n",
        "cf_project_1 = np.array([-1000, 200, 250, 300, 350, 400, 450, 500, 550, 600])\r\n",
        "\r\n",
        "# Create a numpy array of cash flows for Project 2\r\n",
        "cf_project_2 = np.array([-1000, 150, 225, 300, 375, 425, 500, 575, 600, 625])\r\n",
        "\r\n",
        "# Scale the original objects by 1000x\r\n",
        "cf_project1 = cf_project_1 * 1000\r\n",
        "cf_project2 = cf_project_2 * 1000"
      ],
      "execution_count": 22,
      "outputs": []
    },
    {
      "cell_type": "markdown",
      "metadata": {
        "id": "yg2iRhQ185Qx"
      },
      "source": [
        "###Internal Rate of Return\r\n",
        "\r\n",
        "Now that we have the cash flow projections ready to go for each project, we want to compare the internal rate of return (IRR) of each project to help us decide which project would be most beneficial for our company in terms of yield (rate of return). \r\n",
        "\r\n",
        "In this exercise, we will calculate the internal rate of return for each project using `.irr(values)`.\r\n",
        "\r\n",
        "The cash flows for projects 1 and 2 are available as `cf_project1` and `cf_project2`."
      ]
    },
    {
      "cell_type": "markdown",
      "metadata": {
        "id": "GNzsOMVI9Ekx"
      },
      "source": [
        "Set the internal rate of return for Project 1 equal to `irr_project1`.\r\n",
        "\r\n",
        "Set the internal rate of return for Project 2 equal to `irr_project2`."
      ]
    },
    {
      "cell_type": "code",
      "metadata": {
        "colab": {
          "base_uri": "https://localhost:8080/"
        },
        "id": "5enROUlo9JmR",
        "outputId": "f10a9ca7-81d7-4257-f080-9eb292a87973"
      },
      "source": [
        "# Calculate the internal rate of return for Project 1\r\n",
        "irr_project1 = numpy_financial.irr(cf_project1)\r\n",
        "print(\"Project 1 IRR: \" + str(round(100*irr_project1, 2)) + \"%\")\r\n",
        "\r\n",
        "# Calculate the internal rate of return for Project 2\r\n",
        "irr_project2 = numpy_financial.irr(cf_project2)\r\n",
        "print(\"Project 2 IRR: \" + str(round(100*irr_project2, 2)) + \"%\")"
      ],
      "execution_count": 23,
      "outputs": [
        {
          "output_type": "stream",
          "text": [
            "Project 1 IRR: 28.92%\n",
            "Project 2 IRR: 28.78%\n"
          ],
          "name": "stdout"
        }
      ]
    },
    {
      "cell_type": "markdown",
      "metadata": {
        "id": "HEmSVzP29WEK"
      },
      "source": [
        "####**The moral of the story?**\r\n",
        "\r\n",
        "**Make a decision based on IRR**\r\n",
        "\r\n",
        "If we were making the decision solely based on internal rate of return, which project would we be more interested in (assuming the IRR is greater than the required rate of return)?\r\n",
        "\r\n",
        "Assume the required rate of return is 10% for this example.\r\n",
        "\r\n",
        "**Project 1**\r\n",
        "\r\n",
        "`Higher internal rates of return are preferable.`"
      ]
    },
    {
      "cell_type": "markdown",
      "metadata": {
        "id": "bqcguml1-HM6"
      },
      "source": [
        "###Debt and equity financing\r\n",
        "\r\n",
        "We were able to assume that our discount rate for the NPV calculation was solely based on a measure such as inflation.\r\n",
        "\r\n",
        "Now, we are the CEO of a new company that has outstanding debt and financing costs, which we will have to adjust for.\r\n",
        "\r\n",
        "We will use the WACC as the discount rate.\r\n",
        "\r\n",
        "Assuming we take out a `$1,000,000` loan to finance the project, which will be our company's only outstanding debt. This loan will represent 50% of our company's total financing of `$2,000,000`. The remaining funding comes from the market value of equity."
      ]
    },
    {
      "cell_type": "markdown",
      "metadata": {
        "id": "2c-kgBxS-IlR"
      },
      "source": [
        "Q. Set the market value of our `company's debt`, `mval_debt`, equal to the amount of the loan we will be issuing to finance the project.\r\n",
        "\r\n",
        "Set the market value of our `company's equity`, `mval_equity`, equal to the remaining amount of funding after the loan."
      ]
    },
    {
      "cell_type": "code",
      "metadata": {
        "id": "n_8ahz5M9f75"
      },
      "source": [
        "# Set the market value of debt\r\n",
        "mval_debt = 1000000\r\n",
        "\r\n",
        "# Set the market value of equity\r\n",
        "mval_equity = 1000000"
      ],
      "execution_count": 24,
      "outputs": []
    },
    {
      "cell_type": "markdown",
      "metadata": {
        "id": "d0mfecKj-Pzp"
      },
      "source": [
        "Q. Calculate the total market value of our company's financing, `mval_total`, by taking the sum of the debt and equity."
      ]
    },
    {
      "cell_type": "code",
      "metadata": {
        "id": "oBPn3mbh-SoB"
      },
      "source": [
        "# Compute the total market value of company's financing\r\n",
        "mval_total = mval_debt + mval_equity"
      ],
      "execution_count": 25,
      "outputs": []
    },
    {
      "cell_type": "markdown",
      "metadata": {
        "id": "q-La3NJ2-X65"
      },
      "source": [
        "Q. Calculate and print the proportion of our company's financing from debt `(percent_debt)` and from equity `(percent_equity)`."
      ]
    },
    {
      "cell_type": "code",
      "metadata": {
        "colab": {
          "base_uri": "https://localhost:8080/"
        },
        "id": "3MCX04HC-abo",
        "outputId": "0755b891-145b-40db-9738-30757c4c53c9"
      },
      "source": [
        "# Compute the proportion of company's financing via debt\r\n",
        "percent_debt = mval_debt / mval_total\r\n",
        "print(\"Debt Financing: \" + str(round(100*percent_debt, 2)) + \"%\")\r\n",
        "\r\n",
        "# Compute the proportion of company's financing via equity\r\n",
        "percent_equity = mval_equity / mval_total\r\n",
        "print(\"Equity Financing: \" + str(round(100*percent_equity, 2)) + \"%\")"
      ],
      "execution_count": 26,
      "outputs": [
        {
          "output_type": "stream",
          "text": [
            "Debt Financing: 50.0%\n",
            "Equity Financing: 50.0%\n"
          ],
          "name": "stdout"
        }
      ]
    },
    {
      "cell_type": "markdown",
      "metadata": {
        "id": "Cp9rdjEW-dnI"
      },
      "source": [
        "###Calculating WACC\r\n",
        "\r\n",
        "**WACC -- Weighted Average Cost of Capital**\r\n",
        "\r\n",
        "In addition to determining the proportion of both equity and debt financing, we will need to estimate the cost of financing via both debt and equity in order to estimate our WACC.\r\n",
        "\r\n",
        "The cost of debt financing can be estimated as the amount we have to pay on a new loan. This can be estimated by looking at the interest rates of loans of similar sizes to similar companies, or could be based on previous loans our company may already have been issued.\r\n",
        "\r\n",
        "The cost of equity financing can be estimated as the return on equity of similar companies. Calculating the return on equity is a simple accounting exercise, but all we need to know is that essentially, investors will require a rate of return that is close to what could be earned by a similar investment."
      ]
    },
    {
      "cell_type": "markdown",
      "metadata": {
        "id": "CwxV8LDZ_nkh"
      },
      "source": [
        "Q. Assume a cost of equity of 18% based on similar companies.\r\n",
        "\r\n",
        "The bank is willing to lend at an interest rate of 12%.\r\n",
        "\r\n",
        "Assume a corporate tax rate of 35% and that our debt financing is tax-deductible.\r\n",
        "\r\n",
        "Calculate and print company's WACC."
      ]
    },
    {
      "cell_type": "code",
      "metadata": {
        "colab": {
          "base_uri": "https://localhost:8080/"
        },
        "id": "Xa-uU25U_xsg",
        "outputId": "fc9873d1-54d1-419e-e47b-7756b94d3c57"
      },
      "source": [
        "# The proportion of debt vs equity financing is predefined\r\n",
        "percent_debt = 0.50\r\n",
        "percent_equity = 0.50\r\n",
        "\r\n",
        "# Set the cost of equity\r\n",
        "cost_equity = 0.18\r\n",
        "\r\n",
        "# Set the cost of debt\r\n",
        "cost_debt = 0.12\r\n",
        "\r\n",
        "# Set the corporate tax rate\r\n",
        "tax_rate = 0.35\r\n",
        "\r\n",
        "# Calculate the WACC\r\n",
        "wacc = (percent_equity * cost_equity) + (percent_debt * cost_debt)* (1 - tax_rate)\r\n",
        "print(\"WACC: \" + str(round(100*wacc, 2)) + \"%\")"
      ],
      "execution_count": 27,
      "outputs": [
        {
          "output_type": "stream",
          "text": [
            "WACC: 12.9%\n"
          ],
          "name": "stdout"
        }
      ]
    },
    {
      "cell_type": "markdown",
      "metadata": {
        "id": "jMkCoPFE_3n4"
      },
      "source": [
        "###Comparing project NPV with IRR\r\n",
        "\r\n",
        "Companies use their WACC as the discount rate when calculating the net present value of potential projects.\r\n",
        "\r\n",
        "In the same way that we discounted values by inflation to account for costs over time, companies adjust the cash flows of potential projects by their cost of financing (the WACC) to account for their investor's required rate of return based on market conditions.\r\n",
        "\r\n",
        "Now that we calculated the WACC, we can determine the net present value (NPV) of each project's cash flows. The cash flows for projects 1 and 2 are available as `cf_project1` and `cf_project2`."
      ]
    },
    {
      "cell_type": "markdown",
      "metadata": {
        "id": "b4GYo1wsAEev"
      },
      "source": [
        "Q. Set weighted average cost of capital (wacc) equal to 12.9%.\r\n",
        "\r\n",
        "Calculate the net present value of both proposed projects using `.npv()`."
      ]
    },
    {
      "cell_type": "code",
      "metadata": {
        "colab": {
          "base_uri": "https://localhost:8080/"
        },
        "id": "mSksEkDLAEFA",
        "outputId": "fb776e4c-fcbe-4b86-ed52-bd9f270224a1"
      },
      "source": [
        "# Set our weighted average cost of capital equal to 12.9%\r\n",
        "wacc = 0.129\r\n",
        "\r\n",
        "# Calculate the net present value for Project 1\r\n",
        "npv_project1 = numpy_financial.npv(wacc, cf_project1)\r\n",
        "print(\"Project 1 NPV: \" + str(round(npv_project1, 2)))\r\n",
        "\r\n",
        "# Calculate the net present value for Project 2\r\n",
        "npv_project2 = numpy_financial.npv(wacc, cf_project2)\r\n",
        "print(\"Project 2 NPV: \" + str(round(npv_project2, 2)))"
      ],
      "execution_count": 28,
      "outputs": [
        {
          "output_type": "stream",
          "text": [
            "Project 1 NPV: 856073.18\n",
            "Project 2 NPV: 904741.35\n"
          ],
          "name": "stdout"
        }
      ]
    },
    {
      "cell_type": "markdown",
      "metadata": {
        "id": "_KLzzYfXATyR"
      },
      "source": [
        "####**The moral of the story?**\r\n",
        "\r\n",
        "**Question**\r\n",
        "\r\n",
        "If we were making the decision solely based on net present value, which project would be more interested in?\r\n",
        "\r\n",
        "**Project 2**\r\n",
        "\r\n",
        "`Higher net present value is a good thing.`"
      ]
    },
    {
      "cell_type": "markdown",
      "metadata": {
        "id": "R0dz583kAe2h"
      },
      "source": [
        "###Two project with different lifespans\r\n",
        "\r\n",
        "The board of the company has decided to go a different direction, involving slightly shorter term projects and lower initial investments.\r\n",
        "\r\n",
        "The project managers have come up with two new ideas, and projected the cash flows for each of the proposals.\r\n",
        "\r\n",
        "Project 1 has a lifespan of 8 years, but Project 2 only has a lifespan of 7 years. Project 1 requires an initial investment of `$700,000`, but Project 2 only requires `$400,000`.\r\n"
      ]
    },
    {
      "cell_type": "markdown",
      "metadata": {
        "id": "66GO_LCZAs30"
      },
      "source": [
        "Q. Create a variable `cf_project_1` and set it equal to a numpy array of the projected cash flows for Project 1.\r\n",
        "\r\n",
        "Repeat the process for Project 2, setting it equal to `cf_project_2`.\r\n",
        "\r\n",
        "Scale the original values by 1000x, i.e. multiply the original arrays by 1000."
      ]
    },
    {
      "cell_type": "code",
      "metadata": {
        "id": "ur_KFxbPAekR"
      },
      "source": [
        "# Create a numpy array of cash flows for Project 1\r\n",
        "cf_project_1 = np.array([-700, 100, 150, 200, 250, 300, 350, 400])\r\n",
        "\r\n",
        "# Create a numpy array of cash flows for Project 2\r\n",
        "cf_project_2 = np.array([-400, 50, 100, 150, 200, 250, 300])\r\n",
        "\r\n",
        "# Scale the original objects by 1000x\r\n",
        "cf_project1 = cf_project_1 * 1000\r\n",
        "cf_project2 = cf_project_2 * 1000"
      ],
      "execution_count": 29,
      "outputs": []
    },
    {
      "cell_type": "markdown",
      "metadata": {
        "id": "9GWIC3SUA3nH"
      },
      "source": [
        "####Calculating IRR and NPV with different project lifespans\r\n",
        "\r\n",
        "Now that we have calculated the WACC, we can calculate and compare the IRRs and NPVs of each project.\r\n",
        "\r\n",
        "While the IRR remains relatively comparable across projects, the NPV, on the other hand, will be much more difficult to compare given the additional year required for project 1.\r\n",
        "\r\n",
        "We will introduce another method to compare the NPVs of the projects, but we will first need to compute the NPVs as before.\r\n",
        "\r\n",
        "The cash flows for projects 1 and 2 are available as `cf_project1` and `cf_project2`."
      ]
    },
    {
      "cell_type": "markdown",
      "metadata": {
        "id": "x_jfhrDZBAUl"
      },
      "source": [
        "Q. Compute and print the IRR of each project."
      ]
    },
    {
      "cell_type": "code",
      "metadata": {
        "colab": {
          "base_uri": "https://localhost:8080/"
        },
        "id": "f8bHhwPGBD7o",
        "outputId": "e2dcf749-f880-4341-8843-8e6205503707"
      },
      "source": [
        "# Calculate the IRR for Project 1\r\n",
        "irr_project1 = numpy_financial.irr(cf_project1)\r\n",
        "print(\"Project 1 IRR: \" + str(round(100*irr_project1, 2)) + \"%\")\r\n",
        "\r\n",
        "# Calculate the IRR for Project 2\r\n",
        "irr_project2 = numpy_financial.irr(cf_project2)\r\n",
        "print(\"Project 2 IRR: \" + str(round(100*irr_project2, 2)) + \"%\")"
      ],
      "execution_count": 30,
      "outputs": [
        {
          "output_type": "stream",
          "text": [
            "Project 1 IRR: 22.94%\n",
            "Project 2 IRR: 26.89%\n"
          ],
          "name": "stdout"
        }
      ]
    },
    {
      "cell_type": "markdown",
      "metadata": {
        "id": "qggHM7fQBJba"
      },
      "source": [
        "Q. Set the WACC equal to 12.9%"
      ]
    },
    {
      "cell_type": "code",
      "metadata": {
        "id": "z2WWaWWsBLoY"
      },
      "source": [
        "# Set the wacc equal to 12.9%\r\n",
        "wacc = 0.129"
      ],
      "execution_count": 31,
      "outputs": []
    },
    {
      "cell_type": "markdown",
      "metadata": {
        "id": "f40_5q2qBOAF"
      },
      "source": [
        "Q. Compute and print the NPV of each project."
      ]
    },
    {
      "cell_type": "code",
      "metadata": {
        "colab": {
          "base_uri": "https://localhost:8080/"
        },
        "id": "_aKVviOMBQHB",
        "outputId": "b8a1c822-dd56-4847-fa47-40d4e48b6d35"
      },
      "source": [
        "# Calculate the NPV for Project 1\r\n",
        "npv_project1 = numpy_financial.npv(wacc, cf_project1)\r\n",
        "print(\"Project 1 NPV: \" + str(round(npv_project1, 2)))\r\n",
        "\r\n",
        "# Calculate the NPV for Project 2\r\n",
        "npv_project2 = numpy_financial.npv(wacc, cf_project2)\r\n",
        "print(\"Project 2 NPV: \" + str(round(npv_project2, 2)))"
      ],
      "execution_count": 32,
      "outputs": [
        {
          "output_type": "stream",
          "text": [
            "Project 1 NPV: 302744.98\n",
            "Project 2 NPV: 231228.39\n"
          ],
          "name": "stdout"
        }
      ]
    },
    {
      "cell_type": "markdown",
      "metadata": {
        "id": "40jsQ182Br87"
      },
      "source": [
        "`But the NPVs really aren't comparable.`"
      ]
    },
    {
      "cell_type": "markdown",
      "metadata": {
        "id": "zIPcISV7B-nx"
      },
      "source": [
        "###Using the equivalent annual annuity (EAA) approach\r\n",
        "\r\n",
        "Since the net present values of each project are not directly comparable given the different lifespans of each project, we have to consider a different approach.\r\n",
        "\r\n",
        "The `equivalent annual annuity (EAA)` approach allows us to compare two projects by essentially assuming that each project is an investment generating a flat interest rate each year (an annuity), and calculating the annual payment we would receive from each project, discounted to present value.\r\n",
        "\r\n",
        "We can compute the EAA of each project using the `.pmt(rate, nper, pv, fv)` function in numpy financial.\r\n",
        "\r\n",
        "The weighted average cost is available as `wacc`, and the net present values for projects 1 and 2 are available as `npv_project1` and `npv_project2`."
      ]
    },
    {
      "cell_type": "markdown",
      "metadata": {
        "id": "c7nA6lm7CPKp"
      },
      "source": [
        "Q. Calculate and print the EAA for project 1 (using 8 as the time period)."
      ]
    },
    {
      "cell_type": "code",
      "metadata": {
        "colab": {
          "base_uri": "https://localhost:8080/"
        },
        "id": "ega6wz7mBsva",
        "outputId": "3338b2d5-2fce-4bff-924c-cc15bb780001"
      },
      "source": [
        "# Calculate the EAA for Project 1\r\n",
        "eaa_project1 = numpy_financial.pmt(rate=wacc, nper=8, pv=-1*npv_project1, fv=0)\r\n",
        "print(\"Project 1 EAA: \" + str(round(eaa_project1, 2)))"
      ],
      "execution_count": 33,
      "outputs": [
        {
          "output_type": "stream",
          "text": [
            "Project 1 EAA: 62872.2\n"
          ],
          "name": "stdout"
        }
      ]
    },
    {
      "cell_type": "markdown",
      "metadata": {
        "id": "JEyG2efcCUSR"
      },
      "source": [
        "Q. Calculate and print the EAA for project 2 (using 7 as the time period)."
      ]
    },
    {
      "cell_type": "code",
      "metadata": {
        "colab": {
          "base_uri": "https://localhost:8080/"
        },
        "id": "c3Wl3gX6CX5-",
        "outputId": "7f367540-a316-4ae1-f682-8d55d6658848"
      },
      "source": [
        "# Calculate the EAA for Project 2\r\n",
        "eaa_project2 = numpy_financial.pmt(rate=wacc, nper=7, pv=-1*npv_project2, fv=0)\r\n",
        "print(\"Project 2 EAA: \" + str(round(eaa_project2, 2)))"
      ],
      "execution_count": 34,
      "outputs": [
        {
          "output_type": "stream",
          "text": [
            "Project 2 EAA: 52120.61\n"
          ],
          "name": "stdout"
        }
      ]
    },
    {
      "cell_type": "markdown",
      "metadata": {
        "id": "Vpzb3h-_Cc2Z"
      },
      "source": [
        "Well done! This is one of a few ways to deal with this problem."
      ]
    },
    {
      "cell_type": "markdown",
      "metadata": {
        "id": "7OrNP77NCjS3"
      },
      "source": [
        "####**The moral of the story?**\r\n",
        "\r\n",
        "**Making a data-driven decision on projects of different lifespans**\r\n",
        "\r\n",
        "If we were making the decision solely based on the equivalent annual annuity analysis, which project would be more interested in?\r\n",
        "\r\n",
        "**Project - 1**\r\n",
        "\r\n",
        "`Higher EAA means higher annual returns.`"
      ]
    }
  ]
}